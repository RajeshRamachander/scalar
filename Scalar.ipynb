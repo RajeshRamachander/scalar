{
 "cells": [
  {
   "cell_type": "code",
   "execution_count": 1,
   "metadata": {},
   "outputs": [],
   "source": [
    "import pandas as pd\n",
    "import numpy as np\n",
    "import matplotlib.pyplot as plt\n",
    "import seaborn as sns"
   ]
  },
  {
   "cell_type": "code",
   "execution_count": 2,
   "metadata": {},
   "outputs": [],
   "source": [
    "medical_features = pd.DataFrame({\n",
    "                    'Name': ['Ram', 'Krishnan', 'Shiv', 'Ali','John'],\n",
    "                   'Age': [30,50,70,65,39],\n",
    "                   'Blood Oxygen':[99, 97,98,94,93],\n",
    "                  'Body Temperature':[38.1, 37.4,35.2,36.4,38.1]}\n",
    "                  )"
   ]
  },
  {
   "cell_type": "code",
   "execution_count": 3,
   "metadata": {},
   "outputs": [
    {
     "name": "stdout",
     "output_type": "stream",
     "text": [
      "       Name  Age  Blood Oxygen  Body Temperature\n",
      "0       Ram   30            99              38.1\n",
      "1  Krishnan   50            97              37.4\n",
      "2      Shiv   70            98              35.2\n",
      "3       Ali   65            94              36.4\n",
      "4      John   39            93              38.1\n"
     ]
    }
   ],
   "source": [
    "print(medical_features)"
   ]
  },
  {
   "cell_type": "code",
   "execution_count": 4,
   "metadata": {
    "scrolled": true
   },
   "outputs": [
    {
     "name": "stdout",
     "output_type": "stream",
     "text": [
      "Euclidean distance between Blood Oxygen and Body Temprature is:  132.42575278245542\n",
      "Euclidean distance between Age and Blood Oxygen is:  107.289328453486\n"
     ]
    }
   ],
   "source": [
    "x= medical_features['Blood Oxygen']\n",
    "\n",
    "y = medical_features['Body Temperature']\n",
    "print('Euclidean distance between Blood Oxygen and Body Temprature is: ', np.linalg.norm(x-y))\n",
    "\n",
    "x= medical_features['Age']\n",
    "\n",
    "y = medical_features['Blood Oxygen']\n",
    "print('Euclidean distance between Age and Blood Oxygen is: ',np.linalg.norm(x-y))\n"
   ]
  },
  {
   "cell_type": "code",
   "execution_count": 5,
   "metadata": {},
   "outputs": [],
   "source": [
    "selected_features = medical_features[['Age','Blood Oxygen','Body Temperature']]"
   ]
  },
  {
   "cell_type": "code",
   "execution_count": 6,
   "metadata": {},
   "outputs": [],
   "source": [
    "from sklearn.preprocessing import StandardScaler\n",
    "scaler = StandardScaler()\n",
    "\n",
    "scaled_features = scaler.fit_transform(selected_features)\n"
   ]
  },
  {
   "cell_type": "code",
   "execution_count": 7,
   "metadata": {},
   "outputs": [
    {
     "name": "stdout",
     "output_type": "stream",
     "text": [
      "<class 'numpy.ndarray'>\n"
     ]
    }
   ],
   "source": [
    "print(type(scaled_features))"
   ]
  },
  {
   "cell_type": "code",
   "execution_count": 8,
   "metadata": {},
   "outputs": [
    {
     "data": {
      "text/html": [
       "<div>\n",
       "<style scoped>\n",
       "    .dataframe tbody tr th:only-of-type {\n",
       "        vertical-align: middle;\n",
       "    }\n",
       "\n",
       "    .dataframe tbody tr th {\n",
       "        vertical-align: top;\n",
       "    }\n",
       "\n",
       "    .dataframe thead th {\n",
       "        text-align: right;\n",
       "    }\n",
       "</style>\n",
       "<table border=\"1\" class=\"dataframe\">\n",
       "  <thead>\n",
       "    <tr style=\"text-align: right;\">\n",
       "      <th></th>\n",
       "      <th>Age</th>\n",
       "      <th>Blood Oxygen</th>\n",
       "      <th>Body Temperature</th>\n",
       "    </tr>\n",
       "  </thead>\n",
       "  <tbody>\n",
       "    <tr>\n",
       "      <th>0</th>\n",
       "      <td>-1.375825</td>\n",
       "      <td>1.209416</td>\n",
       "      <td>0.954065</td>\n",
       "    </tr>\n",
       "    <tr>\n",
       "      <th>1</th>\n",
       "      <td>-0.052916</td>\n",
       "      <td>0.345547</td>\n",
       "      <td>0.324022</td>\n",
       "    </tr>\n",
       "    <tr>\n",
       "      <th>2</th>\n",
       "      <td>1.269992</td>\n",
       "      <td>0.777482</td>\n",
       "      <td>-1.656113</td>\n",
       "    </tr>\n",
       "    <tr>\n",
       "      <th>3</th>\n",
       "      <td>0.939265</td>\n",
       "      <td>-0.950255</td>\n",
       "      <td>-0.576039</td>\n",
       "    </tr>\n",
       "    <tr>\n",
       "      <th>4</th>\n",
       "      <td>-0.780516</td>\n",
       "      <td>-1.382189</td>\n",
       "      <td>0.954065</td>\n",
       "    </tr>\n",
       "  </tbody>\n",
       "</table>\n",
       "</div>"
      ],
      "text/plain": [
       "        Age  Blood Oxygen  Body Temperature\n",
       "0 -1.375825      1.209416          0.954065\n",
       "1 -0.052916      0.345547          0.324022\n",
       "2  1.269992      0.777482         -1.656113\n",
       "3  0.939265     -0.950255         -0.576039\n",
       "4 -0.780516     -1.382189          0.954065"
      ]
     },
     "execution_count": 8,
     "metadata": {},
     "output_type": "execute_result"
    }
   ],
   "source": [
    "scaled_medical_features = pd.DataFrame(scaled_features,columns=medical_features.columns[1:])\n",
    "scaled_medical_features"
   ]
  },
  {
   "cell_type": "code",
   "execution_count": 9,
   "metadata": {},
   "outputs": [
    {
     "data": {
      "image/png": "[encoded data removed]",
      "text/plain": [
       "<Figure size 720x720 with 2 Axes>"
      ]
     },
     "metadata": {
      "needs_background": "light"
     },
     "output_type": "display_data"
    }
   ],
   "source": [
    "fig, (ax1, ax2) = plt.subplots(ncols=2, figsize=(10, 10))\n",
    "ax1.set_title('Without Scaling')\n",
    "sns.distplot(medical_features['Age'], hist=False, ax=ax1)\n",
    "sns.distplot(medical_features['Blood Oxygen'],hist=False, ax=ax1)\n",
    "sns.distplot(medical_features['Body Temperature'],hist=False, ax=ax1)\n",
    "\n",
    "ax2.set_title('With Scaling')\n",
    "sns.distplot(scaled_medical_features['Age'],hist=False, ax=ax2)\n",
    "sns.distplot(scaled_medical_features['Blood Oxygen'],hist=False, ax=ax2)\n",
    "sns.distplot(scaled_medical_features['Body Temperature'],hist=False, ax=ax2)\n",
    "\n",
    "plt.show()"
   ]
  },
  {
   "cell_type": "code",
   "execution_count": 10,
   "metadata": {},
   "outputs": [
    {
     "name": "stdout",
     "output_type": "stream",
     "text": [
      "<class 'pandas.core.frame.DataFrame'>\n",
      "RangeIndex: 5 entries, 0 to 4\n",
      "Data columns (total 3 columns):\n",
      " #   Column            Non-Null Count  Dtype  \n",
      "---  ------            --------------  -----  \n",
      " 0   Age               5 non-null      float64\n",
      " 1   Blood Oxygen      5 non-null      float64\n",
      " 2   Body Temperature  5 non-null      float64\n",
      "dtypes: float64(3)\n",
      "memory usage: 248.0 bytes\n"
     ]
    }
   ],
   "source": [
    "scaled_medical_features.info()"
   ]
  },
  {
   "cell_type": "code",
   "execution_count": 11,
   "metadata": {},
   "outputs": [
    {
     "data": {
      "text/html": [
       "<div>\n",
       "<style scoped>\n",
       "    .dataframe tbody tr th:only-of-type {\n",
       "        vertical-align: middle;\n",
       "    }\n",
       "\n",
       "    .dataframe tbody tr th {\n",
       "        vertical-align: top;\n",
       "    }\n",
       "\n",
       "    .dataframe thead th {\n",
       "        text-align: right;\n",
       "    }\n",
       "</style>\n",
       "<table border=\"1\" class=\"dataframe\">\n",
       "  <thead>\n",
       "    <tr style=\"text-align: right;\">\n",
       "      <th></th>\n",
       "      <th>Age</th>\n",
       "      <th>Blood Oxygen</th>\n",
       "      <th>Body Temperature</th>\n",
       "    </tr>\n",
       "  </thead>\n",
       "  <tbody>\n",
       "    <tr>\n",
       "      <th>count</th>\n",
       "      <td>5.000000e+00</td>\n",
       "      <td>5.000000e+00</td>\n",
       "      <td>5.000000e+00</td>\n",
       "    </tr>\n",
       "    <tr>\n",
       "      <th>mean</th>\n",
       "      <td>2.442491e-16</td>\n",
       "      <td>-1.199041e-15</td>\n",
       "      <td>1.265654e-15</td>\n",
       "    </tr>\n",
       "    <tr>\n",
       "      <th>std</th>\n",
       "      <td>1.118034e+00</td>\n",
       "      <td>1.118034e+00</td>\n",
       "      <td>1.118034e+00</td>\n",
       "    </tr>\n",
       "    <tr>\n",
       "      <th>min</th>\n",
       "      <td>-1.375825e+00</td>\n",
       "      <td>-1.382189e+00</td>\n",
       "      <td>-1.656113e+00</td>\n",
       "    </tr>\n",
       "    <tr>\n",
       "      <th>25%</th>\n",
       "      <td>-7.805161e-01</td>\n",
       "      <td>-9.502553e-01</td>\n",
       "      <td>-5.760392e-01</td>\n",
       "    </tr>\n",
       "    <tr>\n",
       "      <th>50%</th>\n",
       "      <td>-5.291635e-02</td>\n",
       "      <td>3.455474e-01</td>\n",
       "      <td>3.240220e-01</td>\n",
       "    </tr>\n",
       "    <tr>\n",
       "      <th>75%</th>\n",
       "      <td>9.392652e-01</td>\n",
       "      <td>7.774816e-01</td>\n",
       "      <td>9.540649e-01</td>\n",
       "    </tr>\n",
       "    <tr>\n",
       "      <th>max</th>\n",
       "      <td>1.269992e+00</td>\n",
       "      <td>1.209416e+00</td>\n",
       "      <td>9.540649e-01</td>\n",
       "    </tr>\n",
       "  </tbody>\n",
       "</table>\n",
       "</div>"
      ],
      "text/plain": [
       "                Age  Blood Oxygen  Body Temperature\n",
       "count  5.000000e+00  5.000000e+00      5.000000e+00\n",
       "mean   2.442491e-16 -1.199041e-15      1.265654e-15\n",
       "std    1.118034e+00  1.118034e+00      1.118034e+00\n",
       "min   -1.375825e+00 -1.382189e+00     -1.656113e+00\n",
       "25%   -7.805161e-01 -9.502553e-01     -5.760392e-01\n",
       "50%   -5.291635e-02  3.455474e-01      3.240220e-01\n",
       "75%    9.392652e-01  7.774816e-01      9.540649e-01\n",
       "max    1.269992e+00  1.209416e+00      9.540649e-01"
      ]
     },
     "execution_count": 11,
     "metadata": {},
     "output_type": "execute_result"
    }
   ],
   "source": [
    "scaled_medical_features.describe()"
   ]
  },
  {
   "cell_type": "code",
   "execution_count": null,
   "metadata": {},
   "outputs": [],
   "source": []
  }
 ],
 "metadata": {
  "kernelspec": {
   "display_name": "Python 3",
   "language": "python",
   "name": "python3"
  },
  "language_info": {
   "codemirror_mode": {
    "name": "ipython",
    "version": 3
   },
   "file_extension": ".py",
   "mimetype": "text/x-python",
   "name": "python",
   "nbconvert_exporter": "python",
   "pygments_lexer": "ipython3",
   "version": "3.8.3"
  }
 },
 "nbformat": 4,
 "nbformat_minor": 4
}
